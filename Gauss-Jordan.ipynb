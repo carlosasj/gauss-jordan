{
 "cells": [
  {
   "cell_type": "markdown",
   "metadata": {},
   "source": [
    "# Gauss-Jordan"
   ]
  },
  {
   "cell_type": "markdown",
   "metadata": {},
   "source": [
    "First, import all we need:"
   ]
  },
  {
   "cell_type": "code",
   "execution_count": null,
   "metadata": {
    "collapsed": true
   },
   "outputs": [],
   "source": [
    "# Imports\n",
    "from project.aux_functions import iterable_to_matrix\n",
    "from project.main import do_gauss_jordan\n",
    "from project.line import Line"
   ]
  },
  {
   "cell_type": "markdown",
   "metadata": {},
   "source": [
    "Then, we choose the output format:\n",
    "\n",
    "`str` = fraction format, like \"17/13\" (default)\n",
    "\n",
    "`float` = float format, like \"1.30769230769\""
   ]
  },
  {
   "cell_type": "code",
   "execution_count": null,
   "metadata": {},
   "outputs": [],
   "source": [
    "format_fn = str\n",
    "# format_fn = float  # if you want float format, then uncomment this line"
   ]
  },
  {
   "cell_type": "markdown",
   "metadata": {},
   "source": [
    "## Case 1\n",
    "\n",
    "From the slide that explains pivot technique"
   ]
  },
  {
   "cell_type": "code",
   "execution_count": null,
   "metadata": {
    "collapsed": true
   },
   "outputs": [],
   "source": [
    "raw_matrix = '''\n",
    "[ 2, -1,  3,  5 ] . [ x0 ] = [  -7 ]\n",
    "[ 6, -3, 12, 11 ] . [ x1 ] = [   4 ]\n",
    "[ 4, -1, 10,  8 ] . [ x2 ] = [   4 ]\n",
    "[ 0, -2, -8, 10 ] . [ x3 ] = [ -60 ]\n",
    "'''"
   ]
  },
  {
   "cell_type": "code",
   "execution_count": null,
   "metadata": {
    "collapsed": true
   },
   "outputs": [],
   "source": [
    "# common run\n",
    "\n",
    "raw_matrix = raw_matrix.strip('\\n').split('\\n')\n",
    "\n",
    "matrix, terms_name = iterable_to_matrix(raw_matrix)\n",
    "result = do_gauss_jordan(matrix)\n",
    "\n",
    "for i in range(len(terms_name)):\n",
    "    print(f'{terms_name[i]} = {format_fn(result[i].augmented)}')"
   ]
  },
  {
   "cell_type": "markdown",
   "metadata": {},
   "source": [
    "## Case 2\n",
    "\n",
    "From the example on the assignment description"
   ]
  },
  {
   "cell_type": "code",
   "execution_count": null,
   "metadata": {
    "collapsed": true
   },
   "outputs": [],
   "source": [
    "raw_matrix = '''\n",
    "[  4, -1, -1,  0 ] . [ x0 ] = [ 45 ]\n",
    "[ -1,  4,  0, -1 ] . [ x1 ] = [ 40 ]\n",
    "[ -1,  0,  4, -1 ] . [ x2 ] = [ 55 ]\n",
    "[  0, -1, -1,  4 ] . [ x3 ] = [ 50 ]\n",
    "'''"
   ]
  },
  {
   "cell_type": "code",
   "execution_count": null,
   "metadata": {
    "collapsed": true
   },
   "outputs": [],
   "source": [
    "# common run\n",
    "\n",
    "raw_matrix = raw_matrix.strip('\\n').split('\\n')\n",
    "\n",
    "matrix, terms_name = iterable_to_matrix(raw_matrix)\n",
    "result = do_gauss_jordan(matrix)\n",
    "\n",
    "for i in range(len(terms_name)):\n",
    "    print(f'{terms_name[i]} = {format_fn(result[i].augmented)}')"
   ]
  },
  {
   "cell_type": "markdown",
   "metadata": {},
   "source": [
    "## Case 3\n",
    "\n",
    "From the actual problem on the assignment description"
   ]
  },
  {
   "cell_type": "code",
   "execution_count": null,
   "metadata": {
    "collapsed": true
   },
   "outputs": [],
   "source": [
    "raw_matrix = '''\n",
    "[  4, -1,  0,  0,  0, -1,  0,  0,  0,  0,  0,  0,  0,  0,  0,  0,  0,  0,  0,  0,  0,  0,  0,  0,  0 ] . [  x1 ] = [ 45 ]\n",
    "[ -1,  4, -1,  0,  0,  0, -1,  0,  0,  0,  0,  0,  0,  0,  0,  0,  0,  0,  0,  0,  0,  0,  0,  0,  0 ] . [  x2 ] = [ 20 ]\n",
    "[  0, -1,  4, -1,  0,  0,  0, -1,  0,  0,  0,  0,  0,  0,  0,  0,  0,  0,  0,  0,  0,  0,  0,  0,  0 ] . [  x3 ] = [ 20 ]\n",
    "[  0,  0, -1,  4, -1,  0,  0,  0, -1,  0,  0,  0,  0,  0,  0,  0,  0,  0,  0,  0,  0,  0,  0,  0,  0 ] . [  x4 ] = [ 20 ]\n",
    "[  0,  0,  0, -1,  4,  0,  0,  0,  0, -1,  0,  0,  0,  0,  0,  0,  0,  0,  0,  0,  0,  0,  0,  0,  0 ] . [  x5 ] = [ 40 ]\n",
    "[ -1,  0,  0,  0,  0,  4, -1,  0,  0,  0, -1,  0,  0,  0,  0,  0,  0,  0,  0,  0,  0,  0,  0,  0,  0 ] . [  x6 ] = [ 25 ]\n",
    "[  0, -1,  0,  0,  0, -1,  4, -1,  0,  0,  0, -1,  0,  0,  0,  0,  0,  0,  0,  0,  0,  0,  0,  0,  0 ] . [  x7 ] = [  0 ]\n",
    "[  0,  0, -1,  0,  0,  0, -1,  4, -1,  0,  0,  0, -1,  0,  0,  0,  0,  0,  0,  0,  0,  0,  0,  0,  0 ] . [  x8 ] = [  0 ]\n",
    "[  0,  0,  0, -1,  0,  0,  0, -1,  4, -1,  0,  0,  0, -1,  0,  0,  0,  0,  0,  0,  0,  0,  0,  0,  0 ] . [  x9 ] = [  0 ]\n",
    "[  0,  0,  0,  0, -1,  0,  0,  0, -1,  4,  0,  0,  0,  0, -1,  0,  0,  0,  0,  0,  0,  0,  0,  0,  0 ] . [ x10 ] = [ 20 ]\n",
    "[  0,  0,  0,  0,  0, -1,  0,  0,  0,  0,  4, -1,  0,  0,  0, -1,  0,  0,  0,  0,  0,  0,  0,  0,  0 ] . [ x11 ] = [ 25 ]\n",
    "[  0,  0,  0,  0,  0,  0, -1,  0,  0,  0, -1,  4, -1,  0,  0,  0, -1,  0,  0,  0,  0,  0,  0,  0,  0 ] . [ x12 ] = [  0 ]\n",
    "[  0,  0,  0,  0,  0,  0,  0, -1,  0,  0,  0, -1,  4, -1,  0,  0,  0, -1,  0,  0,  0,  0,  0,  0,  0 ] . [ x13 ] = [  0 ]\n",
    "[  0,  0,  0,  0,  0,  0,  0,  0, -1,  0,  0,  0, -1,  4, -1,  0,  0,  0, -1,  0,  0,  0,  0,  0,  0 ] . [ x14 ] = [  0 ]\n",
    "[  0,  0,  0,  0,  0,  0,  0,  0,  0, -1,  0,  0,  0, -1,  4,  0,  0,  0,  0, -1,  0,  0,  0,  0,  0 ] . [ x15 ] = [ 20 ]\n",
    "[  0,  0,  0,  0,  0,  0,  0,  0,  0,  0, -1,  0,  0,  0,  0,  4, -1,  0,  0,  0, -1,  0,  0,  0,  0 ] . [ x16 ] = [ 25 ]\n",
    "[  0,  0,  0,  0,  0,  0,  0,  0,  0,  0,  0, -1,  0,  0,  0, -1,  4, -1,  0,  0,  0, -1,  0,  0,  0 ] . [ x17 ] = [  0 ]\n",
    "[  0,  0,  0,  0,  0,  0,  0,  0,  0,  0,  0,  0, -1,  0,  0,  0, -1,  4, -1,  0,  0,  0, -1,  0,  0 ] . [ x18 ] = [  0 ]\n",
    "[  0,  0,  0,  0,  0,  0,  0,  0,  0,  0,  0,  0,  0, -1,  0,  0,  0, -1,  4, -1,  0,  0,  0, -1,  0 ] . [ x19 ] = [  0 ]\n",
    "[  0,  0,  0,  0,  0,  0,  0,  0,  0,  0,  0,  0,  0,  0, -1,  0,  0,  0, -1,  4,  0,  0,  0,  0, -1 ] . [ x20 ] = [ 20 ]\n",
    "[  0,  0,  0,  0,  0,  0,  0,  0,  0,  0,  0,  0,  0,  0,  0, -1,  0,  0,  0,  0,  4, -1,  0,  0,  0 ] . [ x21 ] = [ 55 ]\n",
    "[  0,  0,  0,  0,  0,  0,  0,  0,  0,  0,  0,  0,  0,  0,  0,  0, -1,  0,  0,  0, -1,  4, -1,  0,  0 ] . [ x22 ] = [ 30 ]\n",
    "[  0,  0,  0,  0,  0,  0,  0,  0,  0,  0,  0,  0,  0,  0,  0,  0,  0, -1,  0,  0,  0, -1,  4, -1,  0 ] . [ x23 ] = [ 30 ]\n",
    "[  0,  0,  0,  0,  0,  0,  0,  0,  0,  0,  0,  0,  0,  0,  0,  0,  0,  0, -1,  0,  0,  0, -1,  4, -1 ] . [ x24 ] = [ 30 ]\n",
    "[  0,  0,  0,  0,  0,  0,  0,  0,  0,  0,  0,  0,  0,  0,  0,  0,  0,  0,  0, -1,  0,  0,  0, -1,  4 ] . [ x25 ] = [ 50 ]\n",
    "'''"
   ]
  },
  {
   "cell_type": "code",
   "execution_count": null,
   "metadata": {
    "collapsed": true
   },
   "outputs": [],
   "source": [
    "# common run\n",
    "\n",
    "raw_matrix = raw_matrix.strip('\\n').split('\\n')\n",
    "\n",
    "matrix, terms_name = iterable_to_matrix(raw_matrix)\n",
    "result = do_gauss_jordan(matrix)\n",
    "\n",
    "for i in range(len(terms_name)):\n",
    "    print(f'{terms_name[i]} = {format_fn(result[i].augmented)}')"
   ]
  }
 ],
 "metadata": {
  "kernelspec": {
   "display_name": "Python 3",
   "language": "python",
   "name": "python3"
  },
  "language_info": {
   "codemirror_mode": {
    "name": "ipython",
    "version": 3
   },
   "file_extension": ".py",
   "mimetype": "text/x-python",
   "name": "python",
   "nbconvert_exporter": "python",
   "pygments_lexer": "ipython3",
   "version": "3.6.5"
  }
 },
 "nbformat": 4,
 "nbformat_minor": 2
}
